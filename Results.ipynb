{
 "cells": [
  {
   "cell_type": "markdown",
   "metadata": {},
   "source": [
    "# Results"
   ]
  },
  {
   "cell_type": "markdown",
   "metadata": {},
   "source": [
    "✏️ This notebook showcases some insights and visualizations from the data."
   ]
  },
  {
   "cell_type": "code",
   "execution_count": 112,
   "metadata": {},
   "outputs": [
    {
     "name": "stdout",
     "output_type": "stream",
     "text": [
      "The autoreload extension is already loaded. To reload it, use:\n",
      "  %reload_ext autoreload\n"
     ]
    }
   ],
   "source": [
    "import pandas as pd\n",
    "import numpy as np\n",
    "import random \n",
    "import os\n",
    "from youtubesearchpython import VideosSearch\n",
    "import IPython.display as ipd\n",
    "\n",
    "import sys\n",
    "sys.path.append(\"pyplutchik/\")\n",
    "from pyplutchik import plutchik_wheel\n",
    "\n",
    "%load_ext autoreload\n",
    "%autoreload 2"
   ]
  },
  {
   "cell_type": "markdown",
   "metadata": {},
   "source": [
    "## 1. Metadata"
   ]
  },
  {
   "cell_type": "code",
   "execution_count": 113,
   "metadata": {},
   "outputs": [
    {
     "data": {
      "text/html": [
       "<div>\n",
       "<style scoped>\n",
       "    .dataframe tbody tr th:only-of-type {\n",
       "        vertical-align: middle;\n",
       "    }\n",
       "\n",
       "    .dataframe tbody tr th {\n",
       "        vertical-align: top;\n",
       "    }\n",
       "\n",
       "    .dataframe thead th {\n",
       "        text-align: right;\n",
       "    }\n",
       "</style>\n",
       "<table border=\"1\" class=\"dataframe\">\n",
       "  <thead>\n",
       "    <tr style=\"text-align: right;\">\n",
       "      <th></th>\n",
       "      <th>spotify_id</th>\n",
       "      <th>name</th>\n",
       "      <th>artist</th>\n",
       "      <th>genre</th>\n",
       "      <th>album</th>\n",
       "      <th>release_date</th>\n",
       "      <th>popularity</th>\n",
       "      <th>preview_url</th>\n",
       "      <th>cover_image</th>\n",
       "    </tr>\n",
       "  </thead>\n",
       "  <tbody>\n",
       "    <tr>\n",
       "      <th>0</th>\n",
       "      <td>31AOj9sFz2gM0O3hMARRBx</td>\n",
       "      <td>Losing My Religion</td>\n",
       "      <td>R.E.M.</td>\n",
       "      <td>alternative</td>\n",
       "      <td>Out Of Time (25th Anniversary Edition)</td>\n",
       "      <td>1991-03-12</td>\n",
       "      <td>87</td>\n",
       "      <td>NaN</td>\n",
       "      <td>https://i.scdn.co/image/ab67616d0000b273e2dd4e...</td>\n",
       "    </tr>\n",
       "    <tr>\n",
       "      <th>1</th>\n",
       "      <td>5UWwZ5lm5PKu6eKsHAGxOk</td>\n",
       "      <td>Everlong</td>\n",
       "      <td>Foo Fighters</td>\n",
       "      <td>alternative</td>\n",
       "      <td>The Colour And The Shape</td>\n",
       "      <td>1997-05-20</td>\n",
       "      <td>87</td>\n",
       "      <td>https://p.scdn.co/mp3-preview/78fd3872e0fa5940...</td>\n",
       "      <td>https://i.scdn.co/image/ab67616d0000b273038902...</td>\n",
       "    </tr>\n",
       "  </tbody>\n",
       "</table>\n",
       "</div>"
      ],
      "text/plain": [
       "               spotify_id                name        artist        genre  \\\n",
       "0  31AOj9sFz2gM0O3hMARRBx  Losing My Religion        R.E.M.  alternative   \n",
       "1  5UWwZ5lm5PKu6eKsHAGxOk            Everlong  Foo Fighters  alternative   \n",
       "\n",
       "                                    album release_date  popularity  \\\n",
       "0  Out Of Time (25th Anniversary Edition)   1991-03-12          87   \n",
       "1                The Colour And The Shape   1997-05-20          87   \n",
       "\n",
       "                                         preview_url  \\\n",
       "0                                                NaN   \n",
       "1  https://p.scdn.co/mp3-preview/78fd3872e0fa5940...   \n",
       "\n",
       "                                         cover_image  \n",
       "0  https://i.scdn.co/image/ab67616d0000b273e2dd4e...  \n",
       "1  https://i.scdn.co/image/ab67616d0000b273038902...  "
      ]
     },
     "execution_count": 113,
     "metadata": {},
     "output_type": "execute_result"
    }
   ],
   "source": [
    "metadata = pd.read_csv(\"dataset/original/metadata.csv\")\n",
    "metadata_b = pd.read_csv(\"dataset/balanced/metadata.csv\")\n",
    "\n",
    "metadata_b.head(2)"
   ]
  },
  {
   "cell_type": "markdown",
   "metadata": {},
   "source": [
    "## 2. Tags and occurences"
   ]
  },
  {
   "cell_type": "code",
   "execution_count": 114,
   "metadata": {},
   "outputs": [
    {
     "data": {
      "text/html": [
       "<div>\n",
       "<style scoped>\n",
       "    .dataframe tbody tr th:only-of-type {\n",
       "        vertical-align: middle;\n",
       "    }\n",
       "\n",
       "    .dataframe tbody tr th {\n",
       "        vertical-align: top;\n",
       "    }\n",
       "\n",
       "    .dataframe thead th {\n",
       "        text-align: right;\n",
       "    }\n",
       "</style>\n",
       "<table border=\"1\" class=\"dataframe\">\n",
       "  <thead>\n",
       "    <tr style=\"text-align: right;\">\n",
       "      <th></th>\n",
       "      <th>spotify_id</th>\n",
       "      <th>tag</th>\n",
       "      <th>count</th>\n",
       "      <th>normalized_count</th>\n",
       "      <th>source</th>\n",
       "    </tr>\n",
       "  </thead>\n",
       "  <tbody>\n",
       "    <tr>\n",
       "      <th>0</th>\n",
       "      <td>003vvx7Niy0yvhvHt4a68B</td>\n",
       "      <td>happy</td>\n",
       "      <td>3</td>\n",
       "      <td>0.03</td>\n",
       "      <td>LastFM</td>\n",
       "    </tr>\n",
       "    <tr>\n",
       "      <th>1</th>\n",
       "      <td>00WvmRXTkPBZNhhRK3xfdy</td>\n",
       "      <td>feel good</td>\n",
       "      <td>2</td>\n",
       "      <td>0.02</td>\n",
       "      <td>LastFM</td>\n",
       "    </tr>\n",
       "  </tbody>\n",
       "</table>\n",
       "</div>"
      ],
      "text/plain": [
       "               spotify_id        tag  count  normalized_count  source\n",
       "0  003vvx7Niy0yvhvHt4a68B      happy      3              0.03  LastFM\n",
       "1  00WvmRXTkPBZNhhRK3xfdy  feel good      2              0.02  LastFM"
      ]
     },
     "execution_count": 114,
     "metadata": {},
     "output_type": "execute_result"
    }
   ],
   "source": [
    "tags = pd.read_csv(\"dataset/original/tracks_to_tags.csv\")\n",
    "tags_b = pd.read_csv(\"dataset/balanced/tracks_to_tags.csv\")\n",
    "\n",
    "tags_b.head(2)"
   ]
  },
  {
   "cell_type": "code",
   "execution_count": 115,
   "metadata": {},
   "outputs": [
    {
     "name": "stdout",
     "output_type": "stream",
     "text": [
      "Tags for 'Through The Years' by 'Kenny Rogers'\n",
      "==============================================\n",
      "- sweet                         (9, 0.82)\n",
      "- anniversary                   (9, 0.82)\n",
      "- quiet                         (9, 0.82)\n",
      "- romantic evening              (9, 0.82)\n",
      "- romantic                      (9, 0.82)\n",
      "- lush                          (9, 0.82)\n",
      "- intimate                      (9, 0.82)\n",
      "- in love                       (9, 0.82)\n",
      "- anniversary                   (9, 0.82)\n",
      "- sweet                         (9, 0.82)\n",
      "- quiet                         (9, 0.82)\n",
      "- romantic evening              (9, 0.82)\n",
      "- romantic                      (9, 0.82)\n",
      "- lush                          (9, 0.82)\n",
      "- intimate                      (9, 0.82)\n",
      "- in love                       (9, 0.82)\n",
      "- soothing                      (8, 0.73)\n",
      "- soothing                      (8, 0.73)\n",
      "- peaceful                      (4, 0.04)\n"
     ]
    }
   ],
   "source": [
    "# Retrieve all tags of a track with its occurences and normalized occurences\n",
    "# 👉 Please feel free to re-run that cell to get a new random track\n",
    "\n",
    "row_idx = random.randint(0, metadata.shape[0])\n",
    "track_name = metadata.iloc[row_idx]['name']\n",
    "artist = metadata.iloc[row_idx]['artist']\n",
    "spotify_id = metadata.iloc[row_idx]['spotify_id']\n",
    "\n",
    "df = tags[tags['spotify_id'] == spotify_id]\n",
    "df = df.sort_values(by=\"normalized_count\", ascending=False)\n",
    "\n",
    "header = f\"Tags for '{track_name}' by '{artist}'\"\n",
    "print(f\"{header}\\n{len(header)*'='}\")\n",
    "\n",
    "for tag, count, normalized_count in zip(df['tag'].tolist(), df['count'].tolist(), df['normalized_count'].tolist()):\n",
    "\n",
    "    tabs = (30 - len(tag)) * \" \"\n",
    "    print(f\"- {tag}{tabs}({count}, {normalized_count:.2f})\")"
   ]
  },
  {
   "cell_type": "markdown",
   "metadata": {},
   "source": [
    "## 3. Tags and closest matches from the NRC Lexicon"
   ]
  },
  {
   "cell_type": "code",
   "execution_count": 116,
   "metadata": {},
   "outputs": [
    {
     "data": {
      "text/html": [
       "<div>\n",
       "<style scoped>\n",
       "    .dataframe tbody tr th:only-of-type {\n",
       "        vertical-align: middle;\n",
       "    }\n",
       "\n",
       "    .dataframe tbody tr th {\n",
       "        vertical-align: top;\n",
       "    }\n",
       "\n",
       "    .dataframe thead th {\n",
       "        text-align: right;\n",
       "    }\n",
       "</style>\n",
       "<table border=\"1\" class=\"dataframe\">\n",
       "  <thead>\n",
       "    <tr style=\"text-align: right;\">\n",
       "      <th></th>\n",
       "      <th>tag</th>\n",
       "      <th>match</th>\n",
       "      <th>similarity_score</th>\n",
       "    </tr>\n",
       "  </thead>\n",
       "  <tbody>\n",
       "    <tr>\n",
       "      <th>0</th>\n",
       "      <td>happy</td>\n",
       "      <td>happy</td>\n",
       "      <td>1.000000</td>\n",
       "    </tr>\n",
       "    <tr>\n",
       "      <th>1</th>\n",
       "      <td>feel good</td>\n",
       "      <td>happy</td>\n",
       "      <td>0.588338</td>\n",
       "    </tr>\n",
       "  </tbody>\n",
       "</table>\n",
       "</div>"
      ],
      "text/plain": [
       "         tag  match  similarity_score\n",
       "0      happy  happy          1.000000\n",
       "1  feel good  happy          0.588338"
      ]
     },
     "execution_count": 116,
     "metadata": {},
     "output_type": "execute_result"
    }
   ],
   "source": [
    "tags_to_nrc = pd.read_csv(\"dataset/original/tags_to_nrc_matches.csv\")\n",
    "tags_to_nrc_b = pd.read_csv(\"dataset/balanced/tags_to_nrc_matches.csv\")\n",
    "\n",
    "tags_to_nrc_b.head(2)"
   ]
  },
  {
   "cell_type": "code",
   "execution_count": 117,
   "metadata": {},
   "outputs": [
    {
     "name": "stdout",
     "output_type": "stream",
     "text": [
      "Matches in NRC Lexicon for tag :  happy youth\n",
      "=====================================\n",
      "- youth :  0.66\n",
      "- happy :  0.58\n",
      "- happiness :  0.58\n",
      "- cheerful :  0.55\n",
      "- teens :  0.53\n",
      "- joy :  0.53\n",
      "- smiling :  0.52\n"
     ]
    }
   ],
   "source": [
    "# Retrieve all matched words from NRC Lexicon for a specific tag, along with the similarity scores\n",
    "# 👉 Please feel free to re-run that cell to get new random tags\n",
    "\n",
    "idx = random.randint(0, len(tags_to_nrc.tag.unique()) - 1)\n",
    "tag = tags_to_nrc.tag.unique()[idx]\n",
    "\n",
    "print(\"Matches in NRC Lexicon for tag : \", tag)\n",
    "print(\"=====================================\")\n",
    "\n",
    "df = tags_to_nrc[tags_to_nrc['tag'] == tag]\n",
    "\n",
    "for word, score in zip(df['match'].tolist(), df['similarity_score'].tolist()):\n",
    "    print(f\"- {word} : {score : .2f}\")"
   ]
  },
  {
   "cell_type": "markdown",
   "metadata": {},
   "source": [
    "# 4. Tags emotion vectors"
   ]
  },
  {
   "cell_type": "code",
   "execution_count": 118,
   "metadata": {},
   "outputs": [
    {
     "data": {
      "text/html": [
       "<div>\n",
       "<style scoped>\n",
       "    .dataframe tbody tr th:only-of-type {\n",
       "        vertical-align: middle;\n",
       "    }\n",
       "\n",
       "    .dataframe tbody tr th {\n",
       "        vertical-align: top;\n",
       "    }\n",
       "\n",
       "    .dataframe thead th {\n",
       "        text-align: right;\n",
       "    }\n",
       "</style>\n",
       "<table border=\"1\" class=\"dataframe\">\n",
       "  <thead>\n",
       "    <tr style=\"text-align: right;\">\n",
       "      <th></th>\n",
       "      <th>tag</th>\n",
       "      <th>anger</th>\n",
       "      <th>anticipation</th>\n",
       "      <th>disgust</th>\n",
       "      <th>fear</th>\n",
       "      <th>joy</th>\n",
       "      <th>sadness</th>\n",
       "      <th>surprise</th>\n",
       "      <th>trust</th>\n",
       "      <th>emotion_vector</th>\n",
       "    </tr>\n",
       "  </thead>\n",
       "  <tbody>\n",
       "    <tr>\n",
       "      <th>0</th>\n",
       "      <td>happy</td>\n",
       "      <td>0.0</td>\n",
       "      <td>1.0</td>\n",
       "      <td>0.0</td>\n",
       "      <td>0.0</td>\n",
       "      <td>1.0</td>\n",
       "      <td>0.0</td>\n",
       "      <td>0.0</td>\n",
       "      <td>1.0</td>\n",
       "      <td>0.0 1.0 0.0 0.0 1.0 0.0 0.0 1.0</td>\n",
       "    </tr>\n",
       "    <tr>\n",
       "      <th>1</th>\n",
       "      <td>feel good</td>\n",
       "      <td>0.0</td>\n",
       "      <td>1.0</td>\n",
       "      <td>0.0</td>\n",
       "      <td>0.0</td>\n",
       "      <td>1.0</td>\n",
       "      <td>0.0</td>\n",
       "      <td>0.0</td>\n",
       "      <td>0.0</td>\n",
       "      <td>0.0 1.0 0.0 0.0 1.0 0.0 0.0 0.0</td>\n",
       "    </tr>\n",
       "  </tbody>\n",
       "</table>\n",
       "</div>"
      ],
      "text/plain": [
       "         tag  anger  anticipation  disgust  fear  joy  sadness  surprise  \\\n",
       "0      happy    0.0           1.0      0.0   0.0  1.0      0.0       0.0   \n",
       "1  feel good    0.0           1.0      0.0   0.0  1.0      0.0       0.0   \n",
       "\n",
       "   trust                   emotion_vector  \n",
       "0    1.0  0.0 1.0 0.0 0.0 1.0 0.0 0.0 1.0  \n",
       "1    0.0  0.0 1.0 0.0 0.0 1.0 0.0 0.0 0.0  "
      ]
     },
     "execution_count": 118,
     "metadata": {},
     "output_type": "execute_result"
    }
   ],
   "source": [
    "tags_emotions = pd.read_csv(\"dataset/original/tags_to_emotions.csv\")\n",
    "tags_emotions_b = pd.read_csv(\"dataset/balanced/tags_to_emotions.csv\")\n",
    "\n",
    "tags_emotions_b.head(2)"
   ]
  },
  {
   "cell_type": "code",
   "execution_count": 119,
   "metadata": {},
   "outputs": [
    {
     "name": "stdout",
     "output_type": "stream",
     "text": [
      "Emotions for tag :  nocturne\n",
      "=====================================\n",
      "- anger :  0.00\n",
      "- anticipation :  0.00\n",
      "- disgust :  0.00\n",
      "- fear :  0.00\n",
      "- joy :  0.00\n",
      "- sadness :  1.00\n",
      "- surprise :  0.00\n",
      "- trust :  0.00\n"
     ]
    }
   ],
   "source": [
    "# Retrieve emotion vector for a specific tag\n",
    "# 👉 Please feel free to re-run that cell to get new random tags\n",
    "\n",
    "idx = random.randint(0, len(tags_emotions.tag.unique()) - 1)\n",
    "tag = tags_emotions.tag.unique()[idx]\n",
    "\n",
    "print(\"Emotions for tag : \", tag)\n",
    "print(\"=====================================\")\n",
    "\n",
    "df = tags_emotions[tags_emotions['tag'] == tag]\n",
    "\n",
    "for emotion in df.columns[1:-1]:\n",
    "    print(f\"- {emotion} : {df[emotion].item() : .2f}\")"
   ]
  },
  {
   "cell_type": "markdown",
   "metadata": {},
   "source": [
    "# 5. Tracks emotion vectors"
   ]
  },
  {
   "cell_type": "code",
   "execution_count": 120,
   "metadata": {},
   "outputs": [
    {
     "data": {
      "text/html": [
       "<div>\n",
       "<style scoped>\n",
       "    .dataframe tbody tr th:only-of-type {\n",
       "        vertical-align: middle;\n",
       "    }\n",
       "\n",
       "    .dataframe tbody tr th {\n",
       "        vertical-align: top;\n",
       "    }\n",
       "\n",
       "    .dataframe thead th {\n",
       "        text-align: right;\n",
       "    }\n",
       "</style>\n",
       "<table border=\"1\" class=\"dataframe\">\n",
       "  <thead>\n",
       "    <tr style=\"text-align: right;\">\n",
       "      <th></th>\n",
       "      <th>spotify_id</th>\n",
       "      <th>anger</th>\n",
       "      <th>anticipation</th>\n",
       "      <th>disgust</th>\n",
       "      <th>fear</th>\n",
       "      <th>joy</th>\n",
       "      <th>sadness</th>\n",
       "      <th>surprise</th>\n",
       "      <th>trust</th>\n",
       "      <th>emotion_vector</th>\n",
       "    </tr>\n",
       "  </thead>\n",
       "  <tbody>\n",
       "    <tr>\n",
       "      <th>0</th>\n",
       "      <td>003vvx7Niy0yvhvHt4a68B</td>\n",
       "      <td>0.225305</td>\n",
       "      <td>0.478240</td>\n",
       "      <td>0.0</td>\n",
       "      <td>0.047433</td>\n",
       "      <td>0.608680</td>\n",
       "      <td>0.000000</td>\n",
       "      <td>0.213447</td>\n",
       "      <td>0.454524</td>\n",
       "      <td>0.22530534803747188 0.47824024665006526 0.0 0....</td>\n",
       "    </tr>\n",
       "    <tr>\n",
       "      <th>1</th>\n",
       "      <td>00WvmRXTkPBZNhhRK3xfdy</td>\n",
       "      <td>0.000000</td>\n",
       "      <td>0.388185</td>\n",
       "      <td>0.0</td>\n",
       "      <td>0.000000</td>\n",
       "      <td>0.848947</td>\n",
       "      <td>0.067279</td>\n",
       "      <td>0.052359</td>\n",
       "      <td>0.507096</td>\n",
       "      <td>0.0 0.3881852901318221 0.0 0.0 0.8489466551681...</td>\n",
       "    </tr>\n",
       "  </tbody>\n",
       "</table>\n",
       "</div>"
      ],
      "text/plain": [
       "               spotify_id     anger  anticipation  disgust      fear  \\\n",
       "0  003vvx7Niy0yvhvHt4a68B  0.225305      0.478240      0.0  0.047433   \n",
       "1  00WvmRXTkPBZNhhRK3xfdy  0.000000      0.388185      0.0  0.000000   \n",
       "\n",
       "        joy   sadness  surprise     trust  \\\n",
       "0  0.608680  0.000000  0.213447  0.454524   \n",
       "1  0.848947  0.067279  0.052359  0.507096   \n",
       "\n",
       "                                      emotion_vector  \n",
       "0  0.22530534803747188 0.47824024665006526 0.0 0....  \n",
       "1  0.0 0.3881852901318221 0.0 0.0 0.8489466551681...  "
      ]
     },
     "execution_count": 120,
     "metadata": {},
     "output_type": "execute_result"
    }
   ],
   "source": [
    "emotions = pd.read_csv(\"dataset/original/tracks_to_emotions.csv\")\n",
    "emotions_b = pd.read_csv(\"dataset/balanced/tracks_to_emotions.csv\")\n",
    "\n",
    "emotions_b.head(2)"
   ]
  },
  {
   "cell_type": "code",
   "execution_count": 121,
   "metadata": {},
   "outputs": [],
   "source": [
    "def get_audio_link(search_query):\n",
    "    \"\"\"Get the audio link of a song from YouTube\"\"\"\n",
    "    \n",
    "    search = VideosSearch(search_query, limit = 1)\n",
    "    result = search.result()\n",
    "    \n",
    "    if result['result']:\n",
    "        video_link = result['result'][0]['link']\n",
    "        return ipd.HTML(f'<a href=\"{video_link}\" target=\"_blank\">Click here to listen the music on YouTube</a>')\n",
    "    else:\n",
    "        print(\"No results found.\")\n",
    "        return None"
   ]
  },
  {
   "cell_type": "code",
   "execution_count": 122,
   "metadata": {},
   "outputs": [
    {
     "ename": "KeyError",
     "evalue": "\"None of [Index([0, 0, 1, 1, 1], dtype='int64')] are in the [columns]\"",
     "output_type": "error",
     "traceback": [
      "\u001b[1;31m---------------------------------------------------------------------------\u001b[0m",
      "\u001b[1;31mKeyError\u001b[0m                                  Traceback (most recent call last)",
      "\u001b[1;32m~\\AppData\\Local\\Temp\\ipykernel_22476\\677591018.py\u001b[0m in \u001b[0;36m<cell line: 0>\u001b[1;34m()\u001b[0m\n\u001b[0;32m     12\u001b[0m \u001b[1;31m# ---- Retrieve tags and occurences ----\u001b[0m\u001b[1;33m\u001b[0m\u001b[1;33m\u001b[0m\u001b[0m\n\u001b[0;32m     13\u001b[0m \u001b[0mtags_df\u001b[0m \u001b[1;33m=\u001b[0m \u001b[0mtags\u001b[0m\u001b[1;33m[\u001b[0m\u001b[0mtags\u001b[0m\u001b[1;33m[\u001b[0m\u001b[1;34m'spotify_id'\u001b[0m\u001b[1;33m]\u001b[0m \u001b[1;33m==\u001b[0m \u001b[0mspotify_id\u001b[0m\u001b[1;33m]\u001b[0m\u001b[1;33m.\u001b[0m\u001b[0msort_values\u001b[0m\u001b[1;33m(\u001b[0m\u001b[0mby\u001b[0m\u001b[1;33m=\u001b[0m\u001b[1;34m\"normalized_count\"\u001b[0m\u001b[1;33m,\u001b[0m \u001b[0mascending\u001b[0m\u001b[1;33m=\u001b[0m\u001b[1;32mFalse\u001b[0m\u001b[1;33m)\u001b[0m\u001b[1;33m.\u001b[0m\u001b[0mdrop_duplicates\u001b[0m\u001b[1;33m(\u001b[0m\u001b[1;33m)\u001b[0m\u001b[1;33m\u001b[0m\u001b[1;33m\u001b[0m\u001b[0m\n\u001b[1;32m---> 14\u001b[1;33m \u001b[0mtags_df\u001b[0m \u001b[1;33m=\u001b[0m \u001b[0mtags_df\u001b[0m\u001b[1;33m[\u001b[0m\u001b[0mtags_df\u001b[0m\u001b[1;33m[\u001b[0m\u001b[1;34m'selected'\u001b[0m\u001b[1;33m]\u001b[0m\u001b[1;33m]\u001b[0m\u001b[1;33m.\u001b[0m\u001b[0mhead\u001b[0m\u001b[1;33m(\u001b[0m\u001b[1;36m10\u001b[0m\u001b[1;33m)\u001b[0m\u001b[1;33m\u001b[0m\u001b[1;33m\u001b[0m\u001b[0m\n\u001b[0m\u001b[0;32m     15\u001b[0m \u001b[0mtags_list\u001b[0m\u001b[1;33m,\u001b[0m \u001b[0mcounts\u001b[0m \u001b[1;33m=\u001b[0m \u001b[0mtags_df\u001b[0m\u001b[1;33m[\u001b[0m\u001b[1;34m'tag'\u001b[0m\u001b[1;33m]\u001b[0m\u001b[1;33m.\u001b[0m\u001b[0mtolist\u001b[0m\u001b[1;33m(\u001b[0m\u001b[1;33m)\u001b[0m\u001b[1;33m,\u001b[0m \u001b[0mtags_df\u001b[0m\u001b[1;33m[\u001b[0m\u001b[1;34m'count'\u001b[0m\u001b[1;33m]\u001b[0m\u001b[1;33m.\u001b[0m\u001b[0mtolist\u001b[0m\u001b[1;33m(\u001b[0m\u001b[1;33m)\u001b[0m\u001b[1;33m\u001b[0m\u001b[1;33m\u001b[0m\u001b[0m\n\u001b[0;32m     16\u001b[0m \u001b[1;33m\u001b[0m\u001b[0m\n",
      "\u001b[1;32mc:\\Users\\affol\\anaconda3\\envs\\Projects\\Lib\\site-packages\\pandas\\core\\frame.py\u001b[0m in \u001b[0;36m__getitem__\u001b[1;34m(self, key)\u001b[0m\n\u001b[0;32m   4106\u001b[0m             \u001b[1;32mif\u001b[0m \u001b[0mis_iterator\u001b[0m\u001b[1;33m(\u001b[0m\u001b[0mkey\u001b[0m\u001b[1;33m)\u001b[0m\u001b[1;33m:\u001b[0m\u001b[1;33m\u001b[0m\u001b[1;33m\u001b[0m\u001b[0m\n\u001b[0;32m   4107\u001b[0m                 \u001b[0mkey\u001b[0m \u001b[1;33m=\u001b[0m \u001b[0mlist\u001b[0m\u001b[1;33m(\u001b[0m\u001b[0mkey\u001b[0m\u001b[1;33m)\u001b[0m\u001b[1;33m\u001b[0m\u001b[1;33m\u001b[0m\u001b[0m\n\u001b[1;32m-> 4108\u001b[1;33m             \u001b[0mindexer\u001b[0m \u001b[1;33m=\u001b[0m \u001b[0mself\u001b[0m\u001b[1;33m.\u001b[0m\u001b[0mcolumns\u001b[0m\u001b[1;33m.\u001b[0m\u001b[0m_get_indexer_strict\u001b[0m\u001b[1;33m(\u001b[0m\u001b[0mkey\u001b[0m\u001b[1;33m,\u001b[0m \u001b[1;34m\"columns\"\u001b[0m\u001b[1;33m)\u001b[0m\u001b[1;33m[\u001b[0m\u001b[1;36m1\u001b[0m\u001b[1;33m]\u001b[0m\u001b[1;33m\u001b[0m\u001b[1;33m\u001b[0m\u001b[0m\n\u001b[0m\u001b[0;32m   4109\u001b[0m \u001b[1;33m\u001b[0m\u001b[0m\n\u001b[0;32m   4110\u001b[0m         \u001b[1;31m# take() does not accept boolean indexers\u001b[0m\u001b[1;33m\u001b[0m\u001b[1;33m\u001b[0m\u001b[0m\n",
      "\u001b[1;32mc:\\Users\\affol\\anaconda3\\envs\\Projects\\Lib\\site-packages\\pandas\\core\\indexes\\base.py\u001b[0m in \u001b[0;36m_get_indexer_strict\u001b[1;34m(self, key, axis_name)\u001b[0m\n\u001b[0;32m   6198\u001b[0m             \u001b[0mkeyarr\u001b[0m\u001b[1;33m,\u001b[0m \u001b[0mindexer\u001b[0m\u001b[1;33m,\u001b[0m \u001b[0mnew_indexer\u001b[0m \u001b[1;33m=\u001b[0m \u001b[0mself\u001b[0m\u001b[1;33m.\u001b[0m\u001b[0m_reindex_non_unique\u001b[0m\u001b[1;33m(\u001b[0m\u001b[0mkeyarr\u001b[0m\u001b[1;33m)\u001b[0m\u001b[1;33m\u001b[0m\u001b[1;33m\u001b[0m\u001b[0m\n\u001b[0;32m   6199\u001b[0m \u001b[1;33m\u001b[0m\u001b[0m\n\u001b[1;32m-> 6200\u001b[1;33m         \u001b[0mself\u001b[0m\u001b[1;33m.\u001b[0m\u001b[0m_raise_if_missing\u001b[0m\u001b[1;33m(\u001b[0m\u001b[0mkeyarr\u001b[0m\u001b[1;33m,\u001b[0m \u001b[0mindexer\u001b[0m\u001b[1;33m,\u001b[0m \u001b[0maxis_name\u001b[0m\u001b[1;33m)\u001b[0m\u001b[1;33m\u001b[0m\u001b[1;33m\u001b[0m\u001b[0m\n\u001b[0m\u001b[0;32m   6201\u001b[0m \u001b[1;33m\u001b[0m\u001b[0m\n\u001b[0;32m   6202\u001b[0m         \u001b[0mkeyarr\u001b[0m \u001b[1;33m=\u001b[0m \u001b[0mself\u001b[0m\u001b[1;33m.\u001b[0m\u001b[0mtake\u001b[0m\u001b[1;33m(\u001b[0m\u001b[0mindexer\u001b[0m\u001b[1;33m)\u001b[0m\u001b[1;33m\u001b[0m\u001b[1;33m\u001b[0m\u001b[0m\n",
      "\u001b[1;32mc:\\Users\\affol\\anaconda3\\envs\\Projects\\Lib\\site-packages\\pandas\\core\\indexes\\base.py\u001b[0m in \u001b[0;36m_raise_if_missing\u001b[1;34m(self, key, indexer, axis_name)\u001b[0m\n\u001b[0;32m   6247\u001b[0m         \u001b[1;32mif\u001b[0m \u001b[0mnmissing\u001b[0m\u001b[1;33m:\u001b[0m\u001b[1;33m\u001b[0m\u001b[1;33m\u001b[0m\u001b[0m\n\u001b[0;32m   6248\u001b[0m             \u001b[1;32mif\u001b[0m \u001b[0mnmissing\u001b[0m \u001b[1;33m==\u001b[0m \u001b[0mlen\u001b[0m\u001b[1;33m(\u001b[0m\u001b[0mindexer\u001b[0m\u001b[1;33m)\u001b[0m\u001b[1;33m:\u001b[0m\u001b[1;33m\u001b[0m\u001b[1;33m\u001b[0m\u001b[0m\n\u001b[1;32m-> 6249\u001b[1;33m                 \u001b[1;32mraise\u001b[0m \u001b[0mKeyError\u001b[0m\u001b[1;33m(\u001b[0m\u001b[1;34mf\"None of [{key}] are in the [{axis_name}]\"\u001b[0m\u001b[1;33m)\u001b[0m\u001b[1;33m\u001b[0m\u001b[1;33m\u001b[0m\u001b[0m\n\u001b[0m\u001b[0;32m   6250\u001b[0m \u001b[1;33m\u001b[0m\u001b[0m\n\u001b[0;32m   6251\u001b[0m             \u001b[0mnot_found\u001b[0m \u001b[1;33m=\u001b[0m \u001b[0mlist\u001b[0m\u001b[1;33m(\u001b[0m\u001b[0mensure_index\u001b[0m\u001b[1;33m(\u001b[0m\u001b[0mkey\u001b[0m\u001b[1;33m)\u001b[0m\u001b[1;33m[\u001b[0m\u001b[0mmissing_mask\u001b[0m\u001b[1;33m.\u001b[0m\u001b[0mnonzero\u001b[0m\u001b[1;33m(\u001b[0m\u001b[1;33m)\u001b[0m\u001b[1;33m[\u001b[0m\u001b[1;36m0\u001b[0m\u001b[1;33m]\u001b[0m\u001b[1;33m]\u001b[0m\u001b[1;33m.\u001b[0m\u001b[0munique\u001b[0m\u001b[1;33m(\u001b[0m\u001b[1;33m)\u001b[0m\u001b[1;33m)\u001b[0m\u001b[1;33m\u001b[0m\u001b[1;33m\u001b[0m\u001b[0m\n",
      "\u001b[1;31mKeyError\u001b[0m: \"None of [Index([0, 0, 1, 1, 1], dtype='int64')] are in the [columns]\""
     ]
    }
   ],
   "source": [
    "# Retrieve the emotion vector for a specific track, along with the top 10 tags\n",
    "# 👉  Please feel free to re-run that cell to get a new random track\n",
    "\n",
    "row_idx = random.randint(0, emotions.shape[0]-1)\n",
    "df = emotions.iloc[row_idx, :]\n",
    "\n",
    "# ---- Retrieve metadata ----\n",
    "spotify_id = df[\"spotify_id\"]\n",
    "data = metadata[metadata[\"spotify_id\"] == spotify_id].head(1)\n",
    "track_name, artist = data[\"name\"].item(), data[\"artist\"].item()\n",
    "\n",
    "# ---- Retrieve tags and occurences ----\n",
    "tags_df = tags[tags['spotify_id'] == spotify_id].sort_values(by=\"normalized_count\", ascending=False).drop_duplicates()\n",
    "tags_df = tags_df[tags_df['selected']].head(10)\n",
    "tags_list, counts = tags_df['tag'].tolist(), tags_df['count'].tolist()\n",
    "\n",
    "header = f\"Top {min(len(tags_list), 10)} tags and emotion vector for '{track_name}' by '{artist}'\"\n",
    "print(f\"{header}\\n{len(header)*'='}\")\n",
    "\n",
    "for t, c in zip(tags_list, counts):\n",
    "    print(f\"- {t} ({c})\")\n",
    "\n",
    "# ---- Retrieve final emotion vector ----\n",
    "vector_str = df['emotion_vector'].split(\" \")\n",
    "vector = np.array([float(val) for val in vector_str])\n",
    "\n",
    "# ---- Visualize emotions (with tags ordered by occurency) and audio ----\n",
    "plutchik_wheel(track_name, artist, vector, tags_list)\n",
    "get_audio_link(f'{track_name} {artist}')"
   ]
  }
 ],
 "metadata": {
  "kernelspec": {
   "display_name": "Projects",
   "language": "python",
   "name": "python3"
  },
  "language_info": {
   "codemirror_mode": {
    "name": "ipython",
    "version": 3
   },
   "file_extension": ".py",
   "mimetype": "text/x-python",
   "name": "python",
   "nbconvert_exporter": "python",
   "pygments_lexer": "ipython3",
   "version": "3.11.8"
  }
 },
 "nbformat": 4,
 "nbformat_minor": 2
}
